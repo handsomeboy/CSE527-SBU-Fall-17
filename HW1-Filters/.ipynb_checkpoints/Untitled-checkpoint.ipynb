{
 "cells": [
  {
   "cell_type": "code",
   "execution_count": 1,
   "metadata": {},
   "outputs": [
    {
     "ename": "SyntaxError",
     "evalue": "Missing parentheses in call to 'print' (<ipython-input-1-d6d979112bf4>, line 33)",
     "output_type": "error",
     "traceback": [
      "\u001b[0;36m  File \u001b[0;32m\"<ipython-input-1-d6d979112bf4>\"\u001b[0;36m, line \u001b[0;32m33\u001b[0m\n\u001b[0;31m    print \"\\nBLURRED IMAGE\"\u001b[0m\n\u001b[0m                          ^\u001b[0m\n\u001b[0;31mSyntaxError\u001b[0m\u001b[0;31m:\u001b[0m Missing parentheses in call to 'print'\n"
     ]
    }
   ],
   "source": [
    "import os\n",
    "import sys\n",
    "import cv2\n",
    "import numpy as np\n",
    "from matplotlib import pyplot as plt\n",
    "\n",
    "im = cv2.imread('img.png', 0)\n",
    "HW_input = cv2.imread('blurred2.png', 0)\n",
    "\n",
    "gk = cv2.getGaussianKernel(21,5)\n",
    "gk = gk * gk.T\n",
    "\n",
    "def ft(im, newsize=None):\n",
    "    dft = np.fft.fft2(np.float32(im),newsize)\n",
    "    return np.fft.fftshift(dft)\n",
    "\n",
    "def ift(shift):\n",
    "    f_ishift = np.fft.ifftshift(shift)\n",
    "    img_back = np.fft.ifft2(f_ishift)\n",
    "    return np.abs(img_back)\n",
    "\n",
    "imf = ft(im, (im.shape[1],im.shape[1])) # make sure sizes match\n",
    "gkf = ft(gk, (im.shape[1],im.shape[1])) # so we can multiple easily\n",
    "\n",
    "imconvf = (imf * gkf)\n",
    "\n",
    "# now for example we can reconstruct the blurred image from its FT\n",
    "blurred = ift(imconvf)\n",
    "\n",
    "#\n",
    "# SHOW RESULTING IMAGE MATRICES\n",
    "#\n",
    "print(\"\\nBLURRED IMAGE\")\n",
    "print(blurred)\n",
    "print(\"\\nHW INPUT IMAGE\")\n",
    "print(HW_input)\n",
    "\n",
    "print(\"\\nFOURIER TRANSFORMED BLURRED IMAGE\")\n",
    "print(ft(blurred, (im.shape[1],im.shape[1])))\n",
    "print(\"\\nFOURIER TRANSFORMED HW INPUT IMAGE\")\n",
    "print(ft(HW_input, (im.shape[1],im.shape[1])))"
   ]
  },
  {
   "cell_type": "code",
   "execution_count": null,
   "metadata": {
    "collapsed": true
   },
   "outputs": [],
   "source": []
  }
 ],
 "metadata": {
  "kernelspec": {
   "display_name": "Python 3",
   "language": "python",
   "name": "python3"
  },
  "language_info": {
   "codemirror_mode": {
    "name": "ipython",
    "version": 3
   },
   "file_extension": ".py",
   "mimetype": "text/x-python",
   "name": "python",
   "nbconvert_exporter": "python",
   "pygments_lexer": "ipython3",
   "version": "3.6.1"
  }
 },
 "nbformat": 4,
 "nbformat_minor": 2
}
