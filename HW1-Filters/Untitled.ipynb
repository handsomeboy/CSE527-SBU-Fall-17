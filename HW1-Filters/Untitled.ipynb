{
 "cells": [
  {
   "cell_type": "code",
   "execution_count": 2,
   "metadata": {},
   "outputs": [
    {
     "ename": "ModuleNotFoundError",
     "evalue": "No module named 'cv2'",
     "output_type": "error",
     "traceback": [
      "\u001b[0;31m---------------------------------------------------------------------------\u001b[0m",
      "\u001b[0;31mModuleNotFoundError\u001b[0m                       Traceback (most recent call last)",
      "\u001b[0;32m<ipython-input-2-09379f91d5b4>\u001b[0m in \u001b[0;36m<module>\u001b[0;34m()\u001b[0m\n\u001b[1;32m      1\u001b[0m \u001b[0;32mimport\u001b[0m \u001b[0mos\u001b[0m\u001b[0;34m\u001b[0m\u001b[0m\n\u001b[1;32m      2\u001b[0m \u001b[0;32mimport\u001b[0m \u001b[0msys\u001b[0m\u001b[0;34m\u001b[0m\u001b[0m\n\u001b[0;32m----> 3\u001b[0;31m \u001b[0;32mimport\u001b[0m \u001b[0mcv2\u001b[0m\u001b[0;34m\u001b[0m\u001b[0m\n\u001b[0m\u001b[1;32m      4\u001b[0m \u001b[0;32mimport\u001b[0m \u001b[0mnumpy\u001b[0m \u001b[0;32mas\u001b[0m \u001b[0mnp\u001b[0m\u001b[0;34m\u001b[0m\u001b[0m\n\u001b[1;32m      5\u001b[0m \u001b[0;32mfrom\u001b[0m \u001b[0mmatplotlib\u001b[0m \u001b[0;32mimport\u001b[0m \u001b[0mpyplot\u001b[0m \u001b[0;32mas\u001b[0m \u001b[0mplt\u001b[0m\u001b[0;34m\u001b[0m\u001b[0m\n",
      "\u001b[0;31mModuleNotFoundError\u001b[0m: No module named 'cv2'"
     ]
    }
   ],
   "source": [
    "import os\n",
    "import sys\n",
    "import cv2\n",
    "import numpy as np\n",
    "from matplotlib import pyplot as plt\n",
    "\n",
    "im = cv2.imread('img.png', 0)\n",
    "HW_input = cv2.imread('blurred2.png', 0)\n",
    "\n",
    "gk = cv2.getGaussianKernel(21,5)\n",
    "gk = gk * gk.T\n",
    "\n",
    "def ft(im, newsize=None):\n",
    "    dft = np.fft.fft2(np.float32(im),newsize)\n",
    "    return np.fft.fftshift(dft)\n",
    "\n",
    "def ift(shift):\n",
    "    f_ishift = np.fft.ifftshift(shift)\n",
    "    img_back = np.fft.ifft2(f_ishift)\n",
    "    return np.abs(img_back)\n",
    "\n",
    "imf = ft(im, (im.shape[1],im.shape[1])) # make sure sizes match\n",
    "gkf = ft(gk, (im.shape[1],im.shape[1])) # so we can multiple easily\n",
    "\n",
    "imconvf = (imf * gkf)\n",
    "\n",
    "# now for example we can reconstruct the blurred image from its FT\n",
    "blurred = ift(imconvf)\n",
    "\n",
    "#\n",
    "# SHOW RESULTING IMAGE MATRICES\n",
    "#\n",
    "print(\"\\nBLURRED IMAGE\")\n",
    "print(blurred)\n",
    "print(\"\\nHW INPUT IMAGE\")\n",
    "print(HW_input)\n",
    "\n",
    "print(\"\\nFOURIER TRANSFORMED BLURRED IMAGE\")\n",
    "print(ft(blurred, (im.shape[1],im.shape[1])))\n",
    "print(\"\\nFOURIER TRANSFORMED HW INPUT IMAGE\")\n",
    "print(ft(HW_input, (im.shape[1],im.shape[1])))"
   ]
  },
  {
   "cell_type": "code",
   "execution_count": null,
   "metadata": {
    "collapsed": true
   },
   "outputs": [],
   "source": []
  }
 ],
 "metadata": {
  "kernelspec": {
   "display_name": "Python 3",
   "language": "python",
   "name": "python3"
  },
  "language_info": {
   "codemirror_mode": {
    "name": "ipython",
    "version": 3
   },
   "file_extension": ".py",
   "mimetype": "text/x-python",
   "name": "python",
   "nbconvert_exporter": "python",
   "pygments_lexer": "ipython3",
   "version": "3.6.1"
  }
 },
 "nbformat": 4,
 "nbformat_minor": 2
}
